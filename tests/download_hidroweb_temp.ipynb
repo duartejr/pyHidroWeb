{
 "cells": [
  {
   "cell_type": "code",
   "execution_count": 1,
   "metadata": {},
   "outputs": [],
   "source": [
    "import pandas as pd"
   ]
  },
  {
   "cell_type": "code",
   "execution_count": 14,
   "metadata": {},
   "outputs": [],
   "source": [
    "url = 'https://raw.githubusercontent.com/anagovbr/dados-estacoes-hidro/main/dados'\n",
    "station_id = '10100000'"
   ]
  },
  {
   "cell_type": "code",
   "execution_count": 22,
   "metadata": {},
   "outputs": [
    {
     "data": {
      "text/html": [
       "<div>\n",
       "<style scoped>\n",
       "    .dataframe tbody tr th:only-of-type {\n",
       "        vertical-align: middle;\n",
       "    }\n",
       "\n",
       "    .dataframe tbody tr th {\n",
       "        vertical-align: top;\n",
       "    }\n",
       "\n",
       "    .dataframe thead th {\n",
       "        text-align: right;\n",
       "    }\n",
       "</style>\n",
       "<table border=\"1\" class=\"dataframe\">\n",
       "  <thead>\n",
       "    <tr style=\"text-align: right;\">\n",
       "      <th></th>\n",
       "      <th>Nivel_Sensor(cm)</th>\n",
       "      <th>Nivel_Display(cm)</th>\n",
       "      <th>Chuva(mm)</th>\n",
       "      <th>Chuva_Acum_Datalogger(mm)</th>\n",
       "      <th>Temp_H2O</th>\n",
       "      <th>Press_Atm(mb)</th>\n",
       "      <th>Temp_Int(C)</th>\n",
       "      <th>Bateria(V)</th>\n",
       "      <th>OffSet(cm)</th>\n",
       "    </tr>\n",
       "    <tr>\n",
       "      <th>Data Hora</th>\n",
       "      <th></th>\n",
       "      <th></th>\n",
       "      <th></th>\n",
       "      <th></th>\n",
       "      <th></th>\n",
       "      <th></th>\n",
       "      <th></th>\n",
       "      <th></th>\n",
       "      <th></th>\n",
       "    </tr>\n",
       "  </thead>\n",
       "  <tbody>\n",
       "    <tr>\n",
       "      <th>2023-10-20 11:15:00</th>\n",
       "      <td>0.0</td>\n",
       "      <td>NaN</td>\n",
       "      <td>NaN</td>\n",
       "      <td>1138</td>\n",
       "      <td>NaN</td>\n",
       "      <td>10046</td>\n",
       "      <td>306</td>\n",
       "      <td>140</td>\n",
       "      <td>0</td>\n",
       "    </tr>\n",
       "    <tr>\n",
       "      <th>2023-10-20 11:00:00</th>\n",
       "      <td>0.0</td>\n",
       "      <td>NaN</td>\n",
       "      <td>NaN</td>\n",
       "      <td>1138</td>\n",
       "      <td>NaN</td>\n",
       "      <td>10046</td>\n",
       "      <td>306</td>\n",
       "      <td>140</td>\n",
       "      <td>0</td>\n",
       "    </tr>\n",
       "    <tr>\n",
       "      <th>2023-10-20 10:45:00</th>\n",
       "      <td>NaN</td>\n",
       "      <td>NaN</td>\n",
       "      <td>NaN</td>\n",
       "      <td>1138</td>\n",
       "      <td>NaN</td>\n",
       "      <td>10046</td>\n",
       "      <td>306</td>\n",
       "      <td>140</td>\n",
       "      <td>0</td>\n",
       "    </tr>\n",
       "    <tr>\n",
       "      <th>2023-10-20 10:30:00</th>\n",
       "      <td>NaN</td>\n",
       "      <td>NaN</td>\n",
       "      <td>NaN</td>\n",
       "      <td>1138</td>\n",
       "      <td>NaN</td>\n",
       "      <td>10046</td>\n",
       "      <td>306</td>\n",
       "      <td>140</td>\n",
       "      <td>0</td>\n",
       "    </tr>\n",
       "    <tr>\n",
       "      <th>2023-10-20 10:15:00</th>\n",
       "      <td>0.0</td>\n",
       "      <td>-5.0</td>\n",
       "      <td>NaN</td>\n",
       "      <td>1138</td>\n",
       "      <td>NaN</td>\n",
       "      <td>10043</td>\n",
       "      <td>267</td>\n",
       "      <td>138</td>\n",
       "      <td>0</td>\n",
       "    </tr>\n",
       "  </tbody>\n",
       "</table>\n",
       "</div>"
      ],
      "text/plain": [
       "                     Nivel_Sensor(cm)  Nivel_Display(cm)  Chuva(mm)  \\\n",
       "Data Hora                                                             \n",
       "2023-10-20 11:15:00               0.0                NaN        NaN   \n",
       "2023-10-20 11:00:00               0.0                NaN        NaN   \n",
       "2023-10-20 10:45:00               NaN                NaN        NaN   \n",
       "2023-10-20 10:30:00               NaN                NaN        NaN   \n",
       "2023-10-20 10:15:00               0.0               -5.0        NaN   \n",
       "\n",
       "                     Chuva_Acum_Datalogger(mm)  Temp_H2O  Press_Atm(mb)  \\\n",
       "Data Hora                                                                 \n",
       "2023-10-20 11:15:00                       1138       NaN          10046   \n",
       "2023-10-20 11:00:00                       1138       NaN          10046   \n",
       "2023-10-20 10:45:00                       1138       NaN          10046   \n",
       "2023-10-20 10:30:00                       1138       NaN          10046   \n",
       "2023-10-20 10:15:00                       1138       NaN          10043   \n",
       "\n",
       "                     Temp_Int(C)  Bateria(V)  OffSet(cm)  \n",
       "Data Hora                                                 \n",
       "2023-10-20 11:15:00          306         140           0  \n",
       "2023-10-20 11:00:00          306         140           0  \n",
       "2023-10-20 10:45:00          306         140           0  \n",
       "2023-10-20 10:30:00          306         140           0  \n",
       "2023-10-20 10:15:00          267         138           0  "
      ]
     },
     "execution_count": 22,
     "metadata": {},
     "output_type": "execute_result"
    }
   ],
   "source": [
    "url_station = f'{url}/{station_id}.csv'\n",
    "df = pd.read_csv(url_station,\n",
    "                 delimiter=';',\n",
    "                 decimal=',',\n",
    "                 thousands='.',\n",
    "                 na_values=[-99999, '//////', '/////'],\n",
    "                 parse_dates=['Data Hora'],\n",
    "                 index_col=['Data Hora'])\n",
    "df.head()"
   ]
  },
  {
   "cell_type": "code",
   "execution_count": 23,
   "metadata": {},
   "outputs": [
    {
     "name": "stdout",
     "output_type": "stream",
     "text": [
      "<class 'pandas.core.frame.DataFrame'>\n",
      "DatetimeIndex: 1208 entries, 2023-10-20 11:15:00 to 2023-10-10 13:15:00\n",
      "Data columns (total 9 columns):\n",
      " #   Column                     Non-Null Count  Dtype  \n",
      "---  ------                     --------------  -----  \n",
      " 0   Nivel_Sensor(cm)           604 non-null    float64\n",
      " 1   Nivel_Display(cm)          108 non-null    float64\n",
      " 2   Chuva(mm)                  0 non-null      float64\n",
      " 3   Chuva_Acum_Datalogger(mm)  1208 non-null   int64  \n",
      " 4   Temp_H2O                   0 non-null      float64\n",
      " 5   Press_Atm(mb)              1208 non-null   int64  \n",
      " 6   Temp_Int(C)                1208 non-null   int64  \n",
      " 7   Bateria(V)                 1208 non-null   int64  \n",
      " 8   OffSet(cm)                 1208 non-null   int64  \n",
      "dtypes: float64(4), int64(5)\n",
      "memory usage: 94.4 KB\n"
     ]
    }
   ],
   "source": [
    "df.info()"
   ]
  },
  {
   "cell_type": "code",
   "execution_count": null,
   "metadata": {},
   "outputs": [],
   "source": [
    "inventario = pd.read_csv('https://raw.githubusercontent.com/anagovbr/dados-estacoes-hidro/main/Inventario_EstacoesHidrologicas_04082023.csv',\n",
    "                         delimiter=';',\n",
    "                         decimal=',',\n",
    "                         thousands='.')\n"
   ]
  },
  {
   "cell_type": "code",
   "execution_count": 29,
   "metadata": {},
   "outputs": [],
   "source": [
    "estacos_plu = inventario.query('TipoEstacao == \"PLU\"')"
   ]
  },
  {
   "cell_type": "code",
   "execution_count": null,
   "metadata": {},
   "outputs": [],
   "source": []
  }
 ],
 "metadata": {
  "kernelspec": {
   "display_name": "doc",
   "language": "python",
   "name": "python3"
  },
  "language_info": {
   "codemirror_mode": {
    "name": "ipython",
    "version": 3
   },
   "file_extension": ".py",
   "mimetype": "text/x-python",
   "name": "python",
   "nbconvert_exporter": "python",
   "pygments_lexer": "ipython3",
   "version": "3.11.4"
  }
 },
 "nbformat": 4,
 "nbformat_minor": 2
}
